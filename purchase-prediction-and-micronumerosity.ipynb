{
 "cells": [
  {
   "cell_type": "markdown",
   "id": "33e90abc",
   "metadata": {
    "papermill": {
     "duration": 0.008247,
     "end_time": "2024-06-27T17:10:13.224496",
     "exception": false,
     "start_time": "2024-06-27T17:10:13.216249",
     "status": "completed"
    },
    "tags": []
   },
   "source": [
    "**Customer Purchase Prediction & Effect of Micro-Numerosity**"
   ]
  },
  {
   "cell_type": "code",
   "execution_count": 1,
   "id": "649089e8",
   "metadata": {
    "execution": {
     "iopub.execute_input": "2024-06-27T17:10:13.241631Z",
     "iopub.status.busy": "2024-06-27T17:10:13.241239Z",
     "iopub.status.idle": "2024-06-27T17:10:14.316165Z",
     "shell.execute_reply": "2024-06-27T17:10:14.314880Z"
    },
    "papermill": {
     "duration": 1.086713,
     "end_time": "2024-06-27T17:10:14.319015",
     "exception": false,
     "start_time": "2024-06-27T17:10:13.232302",
     "status": "completed"
    },
    "tags": []
   },
   "outputs": [],
   "source": [
    "# Step 1 : import library\n",
    "import pandas as pd"
   ]
  },
  {
   "cell_type": "code",
   "execution_count": 2,
   "id": "fd51ecff",
   "metadata": {
    "execution": {
     "iopub.execute_input": "2024-06-27T17:10:14.337056Z",
     "iopub.status.busy": "2024-06-27T17:10:14.335825Z",
     "iopub.status.idle": "2024-06-27T17:10:14.358088Z",
     "shell.execute_reply": "2024-06-27T17:10:14.356648Z"
    },
    "papermill": {
     "duration": 0.034421,
     "end_time": "2024-06-27T17:10:14.361191",
     "exception": false,
     "start_time": "2024-06-27T17:10:14.326770",
     "status": "completed"
    },
    "tags": []
   },
   "outputs": [],
   "source": [
    "# Step 2 : import data\n",
    "purchase = pd.read_csv('/kaggle/input/purchase-prediction-and-micronumerositydataset/Purchase_Prediction_And_MicronumerosityDataSet.csv')"
   ]
  },
  {
   "cell_type": "code",
   "execution_count": 3,
   "id": "8f78534b",
   "metadata": {
    "execution": {
     "iopub.execute_input": "2024-06-27T17:10:14.378616Z",
     "iopub.status.busy": "2024-06-27T17:10:14.378228Z",
     "iopub.status.idle": "2024-06-27T17:10:14.404606Z",
     "shell.execute_reply": "2024-06-27T17:10:14.403396Z"
    },
    "papermill": {
     "duration": 0.038272,
     "end_time": "2024-06-27T17:10:14.407309",
     "exception": false,
     "start_time": "2024-06-27T17:10:14.369037",
     "status": "completed"
    },
    "tags": []
   },
   "outputs": [
    {
     "data": {
      "text/html": [
       "<div>\n",
       "<style scoped>\n",
       "    .dataframe tbody tr th:only-of-type {\n",
       "        vertical-align: middle;\n",
       "    }\n",
       "\n",
       "    .dataframe tbody tr th {\n",
       "        vertical-align: top;\n",
       "    }\n",
       "\n",
       "    .dataframe thead th {\n",
       "        text-align: right;\n",
       "    }\n",
       "</style>\n",
       "<table border=\"1\" class=\"dataframe\">\n",
       "  <thead>\n",
       "    <tr style=\"text-align: right;\">\n",
       "      <th></th>\n",
       "      <th>Customer ID</th>\n",
       "      <th>Age</th>\n",
       "      <th>Gender</th>\n",
       "      <th>Education</th>\n",
       "      <th>Review</th>\n",
       "      <th>Purchased</th>\n",
       "    </tr>\n",
       "  </thead>\n",
       "  <tbody>\n",
       "    <tr>\n",
       "      <th>0</th>\n",
       "      <td>1021</td>\n",
       "      <td>30</td>\n",
       "      <td>Female</td>\n",
       "      <td>School</td>\n",
       "      <td>Average</td>\n",
       "      <td>No</td>\n",
       "    </tr>\n",
       "    <tr>\n",
       "      <th>1</th>\n",
       "      <td>1022</td>\n",
       "      <td>68</td>\n",
       "      <td>Female</td>\n",
       "      <td>UG</td>\n",
       "      <td>Poor</td>\n",
       "      <td>No</td>\n",
       "    </tr>\n",
       "    <tr>\n",
       "      <th>2</th>\n",
       "      <td>1023</td>\n",
       "      <td>70</td>\n",
       "      <td>Female</td>\n",
       "      <td>PG</td>\n",
       "      <td>Good</td>\n",
       "      <td>No</td>\n",
       "    </tr>\n",
       "    <tr>\n",
       "      <th>3</th>\n",
       "      <td>1024</td>\n",
       "      <td>72</td>\n",
       "      <td>Female</td>\n",
       "      <td>PG</td>\n",
       "      <td>Good</td>\n",
       "      <td>No</td>\n",
       "    </tr>\n",
       "    <tr>\n",
       "      <th>4</th>\n",
       "      <td>1025</td>\n",
       "      <td>16</td>\n",
       "      <td>Female</td>\n",
       "      <td>UG</td>\n",
       "      <td>Average</td>\n",
       "      <td>No</td>\n",
       "    </tr>\n",
       "  </tbody>\n",
       "</table>\n",
       "</div>"
      ],
      "text/plain": [
       "   Customer ID  Age  Gender Education   Review Purchased\n",
       "0         1021   30  Female    School  Average        No\n",
       "1         1022   68  Female        UG     Poor        No\n",
       "2         1023   70  Female        PG     Good        No\n",
       "3         1024   72  Female        PG     Good        No\n",
       "4         1025   16  Female        UG  Average        No"
      ]
     },
     "execution_count": 3,
     "metadata": {},
     "output_type": "execute_result"
    }
   ],
   "source": [
    "purchase.head()"
   ]
  },
  {
   "cell_type": "code",
   "execution_count": 4,
   "id": "3b4b0ba0",
   "metadata": {
    "execution": {
     "iopub.execute_input": "2024-06-27T17:10:14.425513Z",
     "iopub.status.busy": "2024-06-27T17:10:14.425113Z",
     "iopub.status.idle": "2024-06-27T17:10:14.454376Z",
     "shell.execute_reply": "2024-06-27T17:10:14.452739Z"
    },
    "papermill": {
     "duration": 0.041525,
     "end_time": "2024-06-27T17:10:14.456861",
     "exception": false,
     "start_time": "2024-06-27T17:10:14.415336",
     "status": "completed"
    },
    "tags": []
   },
   "outputs": [
    {
     "name": "stdout",
     "output_type": "stream",
     "text": [
      "<class 'pandas.core.frame.DataFrame'>\n",
      "RangeIndex: 50 entries, 0 to 49\n",
      "Data columns (total 6 columns):\n",
      " #   Column       Non-Null Count  Dtype \n",
      "---  ------       --------------  ----- \n",
      " 0   Customer ID  50 non-null     int64 \n",
      " 1   Age          50 non-null     int64 \n",
      " 2   Gender       50 non-null     object\n",
      " 3   Education    50 non-null     object\n",
      " 4   Review       50 non-null     object\n",
      " 5   Purchased    50 non-null     object\n",
      "dtypes: int64(2), object(4)\n",
      "memory usage: 2.5+ KB\n"
     ]
    }
   ],
   "source": [
    "purchase.info()"
   ]
  },
  {
   "cell_type": "code",
   "execution_count": 5,
   "id": "757dc50d",
   "metadata": {
    "execution": {
     "iopub.execute_input": "2024-06-27T17:10:14.474969Z",
     "iopub.status.busy": "2024-06-27T17:10:14.474546Z",
     "iopub.status.idle": "2024-06-27T17:10:14.497704Z",
     "shell.execute_reply": "2024-06-27T17:10:14.496556Z"
    },
    "papermill": {
     "duration": 0.034869,
     "end_time": "2024-06-27T17:10:14.500047",
     "exception": false,
     "start_time": "2024-06-27T17:10:14.465178",
     "status": "completed"
    },
    "tags": []
   },
   "outputs": [
    {
     "data": {
      "text/html": [
       "<div>\n",
       "<style scoped>\n",
       "    .dataframe tbody tr th:only-of-type {\n",
       "        vertical-align: middle;\n",
       "    }\n",
       "\n",
       "    .dataframe tbody tr th {\n",
       "        vertical-align: top;\n",
       "    }\n",
       "\n",
       "    .dataframe thead th {\n",
       "        text-align: right;\n",
       "    }\n",
       "</style>\n",
       "<table border=\"1\" class=\"dataframe\">\n",
       "  <thead>\n",
       "    <tr style=\"text-align: right;\">\n",
       "      <th></th>\n",
       "      <th>Customer ID</th>\n",
       "      <th>Age</th>\n",
       "    </tr>\n",
       "  </thead>\n",
       "  <tbody>\n",
       "    <tr>\n",
       "      <th>count</th>\n",
       "      <td>50.00000</td>\n",
       "      <td>50.000000</td>\n",
       "    </tr>\n",
       "    <tr>\n",
       "      <th>mean</th>\n",
       "      <td>1045.50000</td>\n",
       "      <td>54.160000</td>\n",
       "    </tr>\n",
       "    <tr>\n",
       "      <th>std</th>\n",
       "      <td>14.57738</td>\n",
       "      <td>25.658161</td>\n",
       "    </tr>\n",
       "    <tr>\n",
       "      <th>min</th>\n",
       "      <td>1021.00000</td>\n",
       "      <td>15.000000</td>\n",
       "    </tr>\n",
       "    <tr>\n",
       "      <th>25%</th>\n",
       "      <td>1033.25000</td>\n",
       "      <td>30.250000</td>\n",
       "    </tr>\n",
       "    <tr>\n",
       "      <th>50%</th>\n",
       "      <td>1045.50000</td>\n",
       "      <td>57.000000</td>\n",
       "    </tr>\n",
       "    <tr>\n",
       "      <th>75%</th>\n",
       "      <td>1057.75000</td>\n",
       "      <td>74.000000</td>\n",
       "    </tr>\n",
       "    <tr>\n",
       "      <th>max</th>\n",
       "      <td>1070.00000</td>\n",
       "      <td>98.000000</td>\n",
       "    </tr>\n",
       "  </tbody>\n",
       "</table>\n",
       "</div>"
      ],
      "text/plain": [
       "       Customer ID        Age\n",
       "count     50.00000  50.000000\n",
       "mean    1045.50000  54.160000\n",
       "std       14.57738  25.658161\n",
       "min     1021.00000  15.000000\n",
       "25%     1033.25000  30.250000\n",
       "50%     1045.50000  57.000000\n",
       "75%     1057.75000  74.000000\n",
       "max     1070.00000  98.000000"
      ]
     },
     "execution_count": 5,
     "metadata": {},
     "output_type": "execute_result"
    }
   ],
   "source": [
    "purchase.describe()"
   ]
  },
  {
   "cell_type": "code",
   "execution_count": 6,
   "id": "30a2a736",
   "metadata": {
    "execution": {
     "iopub.execute_input": "2024-06-27T17:10:14.518447Z",
     "iopub.status.busy": "2024-06-27T17:10:14.518054Z",
     "iopub.status.idle": "2024-06-27T17:10:14.522955Z",
     "shell.execute_reply": "2024-06-27T17:10:14.521948Z"
    },
    "papermill": {
     "duration": 0.017021,
     "end_time": "2024-06-27T17:10:14.525295",
     "exception": false,
     "start_time": "2024-06-27T17:10:14.508274",
     "status": "completed"
    },
    "tags": []
   },
   "outputs": [],
   "source": [
    "# Step 3 : define target (y) and features (X)"
   ]
  },
  {
   "cell_type": "code",
   "execution_count": 7,
   "id": "8ae629e1",
   "metadata": {
    "execution": {
     "iopub.execute_input": "2024-06-27T17:10:14.543920Z",
     "iopub.status.busy": "2024-06-27T17:10:14.543484Z",
     "iopub.status.idle": "2024-06-27T17:10:14.551457Z",
     "shell.execute_reply": "2024-06-27T17:10:14.550365Z"
    },
    "papermill": {
     "duration": 0.020381,
     "end_time": "2024-06-27T17:10:14.554155",
     "exception": false,
     "start_time": "2024-06-27T17:10:14.533774",
     "status": "completed"
    },
    "tags": []
   },
   "outputs": [
    {
     "data": {
      "text/plain": [
       "Index(['Customer ID', 'Age', 'Gender', 'Education', 'Review', 'Purchased'], dtype='object')"
      ]
     },
     "execution_count": 7,
     "metadata": {},
     "output_type": "execute_result"
    }
   ],
   "source": [
    "purchase.columns"
   ]
  },
  {
   "cell_type": "code",
   "execution_count": 8,
   "id": "2a3a6448",
   "metadata": {
    "execution": {
     "iopub.execute_input": "2024-06-27T17:10:14.573480Z",
     "iopub.status.busy": "2024-06-27T17:10:14.573070Z",
     "iopub.status.idle": "2024-06-27T17:10:14.578363Z",
     "shell.execute_reply": "2024-06-27T17:10:14.577235Z"
    },
    "papermill": {
     "duration": 0.018233,
     "end_time": "2024-06-27T17:10:14.581024",
     "exception": false,
     "start_time": "2024-06-27T17:10:14.562791",
     "status": "completed"
    },
    "tags": []
   },
   "outputs": [],
   "source": [
    "y = purchase['Purchased']"
   ]
  },
  {
   "cell_type": "code",
   "execution_count": 9,
   "id": "14819b2d",
   "metadata": {
    "execution": {
     "iopub.execute_input": "2024-06-27T17:10:14.599789Z",
     "iopub.status.busy": "2024-06-27T17:10:14.599346Z",
     "iopub.status.idle": "2024-06-27T17:10:14.608346Z",
     "shell.execute_reply": "2024-06-27T17:10:14.607096Z"
    },
    "papermill": {
     "duration": 0.021619,
     "end_time": "2024-06-27T17:10:14.611087",
     "exception": false,
     "start_time": "2024-06-27T17:10:14.589468",
     "status": "completed"
    },
    "tags": []
   },
   "outputs": [],
   "source": [
    "X = purchase.drop(['Purchased','Customer ID'],axis=1)"
   ]
  },
  {
   "cell_type": "code",
   "execution_count": 10,
   "id": "2585b37c",
   "metadata": {
    "execution": {
     "iopub.execute_input": "2024-06-27T17:10:14.629790Z",
     "iopub.status.busy": "2024-06-27T17:10:14.629362Z",
     "iopub.status.idle": "2024-06-27T17:10:14.641228Z",
     "shell.execute_reply": "2024-06-27T17:10:14.640050Z"
    },
    "papermill": {
     "duration": 0.025122,
     "end_time": "2024-06-27T17:10:14.644704",
     "exception": false,
     "start_time": "2024-06-27T17:10:14.619582",
     "status": "completed"
    },
    "tags": []
   },
   "outputs": [
    {
     "name": "stderr",
     "output_type": "stream",
     "text": [
      "/tmp/ipykernel_19/1019028381.py:2: FutureWarning: Downcasting behavior in `replace` is deprecated and will be removed in a future version. To retain the old behavior, explicitly call `result.infer_objects(copy=False)`. To opt-in to the future behavior, set `pd.set_option('future.no_silent_downcasting', True)`\n",
      "  X.replace({'Review':{'Poor':0,'Average':1,'Good':2}},inplace=True)\n",
      "/tmp/ipykernel_19/1019028381.py:3: FutureWarning: Downcasting behavior in `replace` is deprecated and will be removed in a future version. To retain the old behavior, explicitly call `result.infer_objects(copy=False)`. To opt-in to the future behavior, set `pd.set_option('future.no_silent_downcasting', True)`\n",
      "  X.replace({'Education':{'School':0,'UG':1,'PG':2}},inplace=True)\n",
      "/tmp/ipykernel_19/1019028381.py:4: FutureWarning: Downcasting behavior in `replace` is deprecated and will be removed in a future version. To retain the old behavior, explicitly call `result.infer_objects(copy=False)`. To opt-in to the future behavior, set `pd.set_option('future.no_silent_downcasting', True)`\n",
      "  X.replace({'Gender':{'Male': 0,'Female':1}},inplace=True)\n"
     ]
    }
   ],
   "source": [
    "# encoding categorical variable\n",
    "X.replace({'Review':{'Poor':0,'Average':1,'Good':2}},inplace=True)\n",
    "X.replace({'Education':{'School':0,'UG':1,'PG':2}},inplace=True)\n",
    "X.replace({'Gender':{'Male': 0,'Female':1}},inplace=True)\n",
    "          "
   ]
  },
  {
   "cell_type": "code",
   "execution_count": 11,
   "id": "60db427f",
   "metadata": {
    "execution": {
     "iopub.execute_input": "2024-06-27T17:10:14.664915Z",
     "iopub.status.busy": "2024-06-27T17:10:14.663883Z",
     "iopub.status.idle": "2024-06-27T17:10:14.675695Z",
     "shell.execute_reply": "2024-06-27T17:10:14.674279Z"
    },
    "papermill": {
     "duration": 0.024677,
     "end_time": "2024-06-27T17:10:14.678522",
     "exception": false,
     "start_time": "2024-06-27T17:10:14.653845",
     "status": "completed"
    },
    "tags": []
   },
   "outputs": [
    {
     "data": {
      "text/html": [
       "<div>\n",
       "<style scoped>\n",
       "    .dataframe tbody tr th:only-of-type {\n",
       "        vertical-align: middle;\n",
       "    }\n",
       "\n",
       "    .dataframe tbody tr th {\n",
       "        vertical-align: top;\n",
       "    }\n",
       "\n",
       "    .dataframe thead th {\n",
       "        text-align: right;\n",
       "    }\n",
       "</style>\n",
       "<table border=\"1\" class=\"dataframe\">\n",
       "  <thead>\n",
       "    <tr style=\"text-align: right;\">\n",
       "      <th></th>\n",
       "      <th>Age</th>\n",
       "      <th>Gender</th>\n",
       "      <th>Education</th>\n",
       "      <th>Review</th>\n",
       "    </tr>\n",
       "  </thead>\n",
       "  <tbody>\n",
       "    <tr>\n",
       "      <th>0</th>\n",
       "      <td>30</td>\n",
       "      <td>1</td>\n",
       "      <td>0</td>\n",
       "      <td>1</td>\n",
       "    </tr>\n",
       "    <tr>\n",
       "      <th>1</th>\n",
       "      <td>68</td>\n",
       "      <td>1</td>\n",
       "      <td>1</td>\n",
       "      <td>0</td>\n",
       "    </tr>\n",
       "    <tr>\n",
       "      <th>2</th>\n",
       "      <td>70</td>\n",
       "      <td>1</td>\n",
       "      <td>2</td>\n",
       "      <td>2</td>\n",
       "    </tr>\n",
       "    <tr>\n",
       "      <th>3</th>\n",
       "      <td>72</td>\n",
       "      <td>1</td>\n",
       "      <td>2</td>\n",
       "      <td>2</td>\n",
       "    </tr>\n",
       "    <tr>\n",
       "      <th>4</th>\n",
       "      <td>16</td>\n",
       "      <td>1</td>\n",
       "      <td>1</td>\n",
       "      <td>1</td>\n",
       "    </tr>\n",
       "  </tbody>\n",
       "</table>\n",
       "</div>"
      ],
      "text/plain": [
       "   Age  Gender  Education  Review\n",
       "0   30       1          0       1\n",
       "1   68       1          1       0\n",
       "2   70       1          2       2\n",
       "3   72       1          2       2\n",
       "4   16       1          1       1"
      ]
     },
     "execution_count": 11,
     "metadata": {},
     "output_type": "execute_result"
    }
   ],
   "source": [
    "# display first 5 rows\n",
    "X.head()"
   ]
  },
  {
   "cell_type": "code",
   "execution_count": 12,
   "id": "f29d51ed",
   "metadata": {
    "execution": {
     "iopub.execute_input": "2024-06-27T17:10:14.698228Z",
     "iopub.status.busy": "2024-06-27T17:10:14.697672Z",
     "iopub.status.idle": "2024-06-27T17:10:16.331153Z",
     "shell.execute_reply": "2024-06-27T17:10:16.329929Z"
    },
    "papermill": {
     "duration": 1.646519,
     "end_time": "2024-06-27T17:10:16.334032",
     "exception": false,
     "start_time": "2024-06-27T17:10:14.687513",
     "status": "completed"
    },
    "tags": []
   },
   "outputs": [],
   "source": [
    "# Step 4 : train test split\n",
    "from sklearn.model_selection import train_test_split\n",
    "X_train, X_test, y_train, y_test = train_test_split(X,y, train_size=0.8, random_state=2529)"
   ]
  },
  {
   "cell_type": "code",
   "execution_count": 13,
   "id": "2d74585c",
   "metadata": {
    "execution": {
     "iopub.execute_input": "2024-06-27T17:10:16.353517Z",
     "iopub.status.busy": "2024-06-27T17:10:16.353092Z",
     "iopub.status.idle": "2024-06-27T17:10:16.361361Z",
     "shell.execute_reply": "2024-06-27T17:10:16.360075Z"
    },
    "papermill": {
     "duration": 0.020631,
     "end_time": "2024-06-27T17:10:16.363633",
     "exception": false,
     "start_time": "2024-06-27T17:10:16.343002",
     "status": "completed"
    },
    "tags": []
   },
   "outputs": [
    {
     "data": {
      "text/plain": [
       "((40, 4), (10, 4), (40,), (10,))"
      ]
     },
     "execution_count": 13,
     "metadata": {},
     "output_type": "execute_result"
    }
   ],
   "source": [
    "# check shape of train and test sample\n",
    "X_train.shape, X_test.shape, y_train.shape, y_test.shape"
   ]
  },
  {
   "cell_type": "code",
   "execution_count": 14,
   "id": "2f54a66c",
   "metadata": {
    "execution": {
     "iopub.execute_input": "2024-06-27T17:10:16.383481Z",
     "iopub.status.busy": "2024-06-27T17:10:16.382964Z",
     "iopub.status.idle": "2024-06-27T17:10:16.789716Z",
     "shell.execute_reply": "2024-06-27T17:10:16.788392Z"
    },
    "papermill": {
     "duration": 0.420122,
     "end_time": "2024-06-27T17:10:16.792652",
     "exception": false,
     "start_time": "2024-06-27T17:10:16.372530",
     "status": "completed"
    },
    "tags": []
   },
   "outputs": [],
   "source": [
    "# Step 5 : select model\n",
    "from sklearn.ensemble import RandomForestClassifier\n",
    "model = RandomForestClassifier()"
   ]
  },
  {
   "cell_type": "code",
   "execution_count": 15,
   "id": "acf2c321",
   "metadata": {
    "execution": {
     "iopub.execute_input": "2024-06-27T17:10:16.812405Z",
     "iopub.status.busy": "2024-06-27T17:10:16.811991Z",
     "iopub.status.idle": "2024-06-27T17:10:17.050400Z",
     "shell.execute_reply": "2024-06-27T17:10:17.049134Z"
    },
    "papermill": {
     "duration": 0.251397,
     "end_time": "2024-06-27T17:10:17.053115",
     "exception": false,
     "start_time": "2024-06-27T17:10:16.801718",
     "status": "completed"
    },
    "tags": []
   },
   "outputs": [
    {
     "data": {
      "text/html": [
       "<style>#sk-container-id-1 {color: black;background-color: white;}#sk-container-id-1 pre{padding: 0;}#sk-container-id-1 div.sk-toggleable {background-color: white;}#sk-container-id-1 label.sk-toggleable__label {cursor: pointer;display: block;width: 100%;margin-bottom: 0;padding: 0.3em;box-sizing: border-box;text-align: center;}#sk-container-id-1 label.sk-toggleable__label-arrow:before {content: \"▸\";float: left;margin-right: 0.25em;color: #696969;}#sk-container-id-1 label.sk-toggleable__label-arrow:hover:before {color: black;}#sk-container-id-1 div.sk-estimator:hover label.sk-toggleable__label-arrow:before {color: black;}#sk-container-id-1 div.sk-toggleable__content {max-height: 0;max-width: 0;overflow: hidden;text-align: left;background-color: #f0f8ff;}#sk-container-id-1 div.sk-toggleable__content pre {margin: 0.2em;color: black;border-radius: 0.25em;background-color: #f0f8ff;}#sk-container-id-1 input.sk-toggleable__control:checked~div.sk-toggleable__content {max-height: 200px;max-width: 100%;overflow: auto;}#sk-container-id-1 input.sk-toggleable__control:checked~label.sk-toggleable__label-arrow:before {content: \"▾\";}#sk-container-id-1 div.sk-estimator input.sk-toggleable__control:checked~label.sk-toggleable__label {background-color: #d4ebff;}#sk-container-id-1 div.sk-label input.sk-toggleable__control:checked~label.sk-toggleable__label {background-color: #d4ebff;}#sk-container-id-1 input.sk-hidden--visually {border: 0;clip: rect(1px 1px 1px 1px);clip: rect(1px, 1px, 1px, 1px);height: 1px;margin: -1px;overflow: hidden;padding: 0;position: absolute;width: 1px;}#sk-container-id-1 div.sk-estimator {font-family: monospace;background-color: #f0f8ff;border: 1px dotted black;border-radius: 0.25em;box-sizing: border-box;margin-bottom: 0.5em;}#sk-container-id-1 div.sk-estimator:hover {background-color: #d4ebff;}#sk-container-id-1 div.sk-parallel-item::after {content: \"\";width: 100%;border-bottom: 1px solid gray;flex-grow: 1;}#sk-container-id-1 div.sk-label:hover label.sk-toggleable__label {background-color: #d4ebff;}#sk-container-id-1 div.sk-serial::before {content: \"\";position: absolute;border-left: 1px solid gray;box-sizing: border-box;top: 0;bottom: 0;left: 50%;z-index: 0;}#sk-container-id-1 div.sk-serial {display: flex;flex-direction: column;align-items: center;background-color: white;padding-right: 0.2em;padding-left: 0.2em;position: relative;}#sk-container-id-1 div.sk-item {position: relative;z-index: 1;}#sk-container-id-1 div.sk-parallel {display: flex;align-items: stretch;justify-content: center;background-color: white;position: relative;}#sk-container-id-1 div.sk-item::before, #sk-container-id-1 div.sk-parallel-item::before {content: \"\";position: absolute;border-left: 1px solid gray;box-sizing: border-box;top: 0;bottom: 0;left: 50%;z-index: -1;}#sk-container-id-1 div.sk-parallel-item {display: flex;flex-direction: column;z-index: 1;position: relative;background-color: white;}#sk-container-id-1 div.sk-parallel-item:first-child::after {align-self: flex-end;width: 50%;}#sk-container-id-1 div.sk-parallel-item:last-child::after {align-self: flex-start;width: 50%;}#sk-container-id-1 div.sk-parallel-item:only-child::after {width: 0;}#sk-container-id-1 div.sk-dashed-wrapped {border: 1px dashed gray;margin: 0 0.4em 0.5em 0.4em;box-sizing: border-box;padding-bottom: 0.4em;background-color: white;}#sk-container-id-1 div.sk-label label {font-family: monospace;font-weight: bold;display: inline-block;line-height: 1.2em;}#sk-container-id-1 div.sk-label-container {text-align: center;}#sk-container-id-1 div.sk-container {/* jupyter's `normalize.less` sets `[hidden] { display: none; }` but bootstrap.min.css set `[hidden] { display: none !important; }` so we also need the `!important` here to be able to override the default hidden behavior on the sphinx rendered scikit-learn.org. See: https://github.com/scikit-learn/scikit-learn/issues/21755 */display: inline-block !important;position: relative;}#sk-container-id-1 div.sk-text-repr-fallback {display: none;}</style><div id=\"sk-container-id-1\" class=\"sk-top-container\"><div class=\"sk-text-repr-fallback\"><pre>RandomForestClassifier()</pre><b>In a Jupyter environment, please rerun this cell to show the HTML representation or trust the notebook. <br />On GitHub, the HTML representation is unable to render, please try loading this page with nbviewer.org.</b></div><div class=\"sk-container\" hidden><div class=\"sk-item\"><div class=\"sk-estimator sk-toggleable\"><input class=\"sk-toggleable__control sk-hidden--visually\" id=\"sk-estimator-id-1\" type=\"checkbox\" checked><label for=\"sk-estimator-id-1\" class=\"sk-toggleable__label sk-toggleable__label-arrow\">RandomForestClassifier</label><div class=\"sk-toggleable__content\"><pre>RandomForestClassifier()</pre></div></div></div></div></div>"
      ],
      "text/plain": [
       "RandomForestClassifier()"
      ]
     },
     "execution_count": 15,
     "metadata": {},
     "output_type": "execute_result"
    }
   ],
   "source": [
    " # Step 6 : train or fit model\n",
    "model.fit(X_train,y_train)"
   ]
  },
  {
   "cell_type": "code",
   "execution_count": 16,
   "id": "c40cbf4d",
   "metadata": {
    "execution": {
     "iopub.execute_input": "2024-06-27T17:10:17.073576Z",
     "iopub.status.busy": "2024-06-27T17:10:17.073146Z",
     "iopub.status.idle": "2024-06-27T17:10:17.092240Z",
     "shell.execute_reply": "2024-06-27T17:10:17.091047Z"
    },
    "papermill": {
     "duration": 0.032631,
     "end_time": "2024-06-27T17:10:17.095116",
     "exception": false,
     "start_time": "2024-06-27T17:10:17.062485",
     "status": "completed"
    },
    "tags": []
   },
   "outputs": [],
   "source": [
    "# Step 7 : predict model\n",
    "y_pred = model.predict(X_test)"
   ]
  },
  {
   "cell_type": "code",
   "execution_count": 17,
   "id": "c0267f4b",
   "metadata": {
    "execution": {
     "iopub.execute_input": "2024-06-27T17:10:17.116755Z",
     "iopub.status.busy": "2024-06-27T17:10:17.115972Z",
     "iopub.status.idle": "2024-06-27T17:10:17.123603Z",
     "shell.execute_reply": "2024-06-27T17:10:17.122378Z"
    },
    "papermill": {
     "duration": 0.020965,
     "end_time": "2024-06-27T17:10:17.126299",
     "exception": false,
     "start_time": "2024-06-27T17:10:17.105334",
     "status": "completed"
    },
    "tags": []
   },
   "outputs": [
    {
     "data": {
      "text/plain": [
       "array(['No', 'Yes', 'No', 'No', 'Yes', 'Yes', 'Yes', 'No', 'No', 'Yes'],\n",
       "      dtype=object)"
      ]
     },
     "execution_count": 17,
     "metadata": {},
     "output_type": "execute_result"
    }
   ],
   "source": [
    "y_pred"
   ]
  },
  {
   "cell_type": "code",
   "execution_count": 18,
   "id": "be0e1698",
   "metadata": {
    "execution": {
     "iopub.execute_input": "2024-06-27T17:10:17.147354Z",
     "iopub.status.busy": "2024-06-27T17:10:17.146887Z",
     "iopub.status.idle": "2024-06-27T17:10:17.152488Z",
     "shell.execute_reply": "2024-06-27T17:10:17.151299Z"
    },
    "papermill": {
     "duration": 0.019201,
     "end_time": "2024-06-27T17:10:17.155051",
     "exception": false,
     "start_time": "2024-06-27T17:10:17.135850",
     "status": "completed"
    },
    "tags": []
   },
   "outputs": [],
   "source": [
    "# Step 8 : model accuracy\n",
    "from sklearn.metrics import confusion_matrix, accuracy_score, classification_report"
   ]
  },
  {
   "cell_type": "code",
   "execution_count": 19,
   "id": "9b6952b4",
   "metadata": {
    "execution": {
     "iopub.execute_input": "2024-06-27T17:10:17.175674Z",
     "iopub.status.busy": "2024-06-27T17:10:17.175253Z",
     "iopub.status.idle": "2024-06-27T17:10:17.185236Z",
     "shell.execute_reply": "2024-06-27T17:10:17.183975Z"
    },
    "papermill": {
     "duration": 0.02329,
     "end_time": "2024-06-27T17:10:17.187983",
     "exception": false,
     "start_time": "2024-06-27T17:10:17.164693",
     "status": "completed"
    },
    "tags": []
   },
   "outputs": [
    {
     "data": {
      "text/plain": [
       "array([[2, 1],\n",
       "       [3, 4]])"
      ]
     },
     "execution_count": 19,
     "metadata": {},
     "output_type": "execute_result"
    }
   ],
   "source": [
    "confusion_matrix(y_test,y_pred)"
   ]
  },
  {
   "cell_type": "code",
   "execution_count": 20,
   "id": "d6e78f9a",
   "metadata": {
    "execution": {
     "iopub.execute_input": "2024-06-27T17:10:17.209488Z",
     "iopub.status.busy": "2024-06-27T17:10:17.209058Z",
     "iopub.status.idle": "2024-06-27T17:10:17.217796Z",
     "shell.execute_reply": "2024-06-27T17:10:17.216707Z"
    },
    "papermill": {
     "duration": 0.022269,
     "end_time": "2024-06-27T17:10:17.220282",
     "exception": false,
     "start_time": "2024-06-27T17:10:17.198013",
     "status": "completed"
    },
    "tags": []
   },
   "outputs": [
    {
     "data": {
      "text/plain": [
       "0.6"
      ]
     },
     "execution_count": 20,
     "metadata": {},
     "output_type": "execute_result"
    }
   ],
   "source": [
    "accuracy_score(y_test,y_pred)"
   ]
  },
  {
   "cell_type": "code",
   "execution_count": 21,
   "id": "9f279e60",
   "metadata": {
    "execution": {
     "iopub.execute_input": "2024-06-27T17:10:17.242348Z",
     "iopub.status.busy": "2024-06-27T17:10:17.241922Z",
     "iopub.status.idle": "2024-06-27T17:10:17.258480Z",
     "shell.execute_reply": "2024-06-27T17:10:17.257209Z"
    },
    "papermill": {
     "duration": 0.031051,
     "end_time": "2024-06-27T17:10:17.261045",
     "exception": false,
     "start_time": "2024-06-27T17:10:17.229994",
     "status": "completed"
    },
    "tags": []
   },
   "outputs": [
    {
     "name": "stdout",
     "output_type": "stream",
     "text": [
      "              precision    recall  f1-score   support\n",
      "\n",
      "          No       0.40      0.67      0.50         3\n",
      "         Yes       0.80      0.57      0.67         7\n",
      "\n",
      "    accuracy                           0.60        10\n",
      "   macro avg       0.60      0.62      0.58        10\n",
      "weighted avg       0.68      0.60      0.62        10\n",
      "\n"
     ]
    }
   ],
   "source": [
    "print(classification_report(y_test,y_pred))"
   ]
  }
 ],
 "metadata": {
  "kaggle": {
   "accelerator": "none",
   "dataSources": [
    {
     "datasetId": 5295067,
     "sourceId": 8804425,
     "sourceType": "datasetVersion"
    }
   ],
   "dockerImageVersionId": 30732,
   "isGpuEnabled": false,
   "isInternetEnabled": true,
   "language": "python",
   "sourceType": "notebook"
  },
  "kernelspec": {
   "display_name": "Python 3",
   "language": "python",
   "name": "python3"
  },
  "language_info": {
   "codemirror_mode": {
    "name": "ipython",
    "version": 3
   },
   "file_extension": ".py",
   "mimetype": "text/x-python",
   "name": "python",
   "nbconvert_exporter": "python",
   "pygments_lexer": "ipython3",
   "version": "3.10.13"
  },
  "papermill": {
   "default_parameters": {},
   "duration": 7.918104,
   "end_time": "2024-06-27T17:10:17.893074",
   "environment_variables": {},
   "exception": null,
   "input_path": "__notebook__.ipynb",
   "output_path": "__notebook__.ipynb",
   "parameters": {},
   "start_time": "2024-06-27T17:10:09.974970",
   "version": "2.5.0"
  }
 },
 "nbformat": 4,
 "nbformat_minor": 5
}
